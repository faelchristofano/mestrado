{
 "cells": [
  {
   "cell_type": "code",
   "execution_count": 2,
   "metadata": {},
   "outputs": [],
   "source": [
    "import pandas as pd\n",
    "import numpy as np\n",
    "import matplotlib.pyplot as plt\n",
    "import json\n",
    "import operator\n",
    "import collections"
   ]
  },
  {
   "cell_type": "code",
   "execution_count": 3,
   "metadata": {},
   "outputs": [],
   "source": [
    "data = pd.read_json('data.json')"
   ]
  },
  {
   "cell_type": "code",
   "execution_count": null,
   "metadata": {},
   "outputs": [],
   "source": [
    "list_macroCategory = [{\n",
    "    \"food\": [\"bakery\", \"bar\", \"cafe\", \"food\", \"liquor_store\", \"meal_delivery\", \"meal_takeaway\", \"restaurant\"],\n",
    "    \"finance\": [\"accounting\", \"atm\", \"bank\", \"finance\"],\n",
    "    \"administrative\": [\"city_hall\", \"courthouse\", \"embassy\", \"fire_station\", \"local_government_office\", \"police\"],\n",
    "    \"transport\": [\"airport\", \"bus_station\", \"subway_station\", \"taxi_stand\", \"train_station\", \"transit_station\", \"light_rail_station\"],\n",
    "    \"cultural\": [\"art_gallery\", \"library\", \"school\", \"university\", \"movie_theater\", \"museum\"],\n",
    "    \"entertainment\": [\"night_club\", \"amusement_park\", \"casino\", \"bowling _lley\", \"campground\", \"zoo\", \"aquarium\", \"stadium\"],\n",
    "    \"health\": [\"pharmacy\", \"physiotherapist\", \"beauty_salon\", \"dentist\", \"doctor\", \"gym\", \"hair_care\", \"hospital\", \"veterinary_care\", \"health\", \"spa\"],\n",
    "    \"services\": [\"travel_agency\", \"funeral_home\", \"painter\", \"park\", \"post_office\", \"parking\", \"roofing_contractor\", \"locksmith\", \"general_contractor\",\n",
    "        \"lodging\", \"moving_company\", \"car_repair\", \"car_wash\", \"electrician\", \"car_rental\", \"laundry\", \"gas_station\", \"plumber\",\n",
    "        \"real_estate_agency\", \"recreational_vehicle_park\", \"insurance_agency\", \"lawyer\"\n",
    "    ],\n",
    "    \"religious\": [\"mosque\", \"cemetery\", \"church\", \"hindu_temple\", \"synagogue\", \"place_of_worship\"],\n",
    "    \"stores\": [\"shoe_store\", \"shopping_mall\", \"pet_store\", \"bicycle_store\", \"book_store\", \"car_dealer\", \"clothing_store\",\n",
    "        \"jewelry_store\", \"florist\", \"store\", \"furniture_store\", \"convenience_store\", \"department_store\", \"electronics_store\",\n",
    "        \"hardware_store\", \"home_goods_store\", \"storage\", \"grocery_or_supermarket\", \"movie_rental\"\n",
    "    ],\n",
    "    \"miscellaneous\": [\"point_of_interest\", \"establishment\", \"country\", \"floor\", \"intersection\", \"locality\", \"natural_feature\", \"geocode\",\n",
    "        \"colloquial\", \"area\", \"room\", \"post_box\", \"neighborhood\", \"postal_code\", \"postal_town\", \"political\", \"postal_code_prefix\",\n",
    "        \"postal_code_suffix\", \"premise\", \"route\", \"street_address\", \"subpremise\", \"street_number\", \"sublocality_(SL)\"\n",
    "    ]\n",
    "}]"
   ]
  },
  {
   "cell_type": "code",
   "execution_count": 4,
   "metadata": {},
   "outputs": [
    {
     "data": {
      "text/html": [
       "<div>\n",
       "<style scoped>\n",
       "    .dataframe tbody tr th:only-of-type {\n",
       "        vertical-align: middle;\n",
       "    }\n",
       "\n",
       "    .dataframe tbody tr th {\n",
       "        vertical-align: top;\n",
       "    }\n",
       "\n",
       "    .dataframe thead th {\n",
       "        text-align: right;\n",
       "    }\n",
       "</style>\n",
       "<table border=\"1\" class=\"dataframe\">\n",
       "  <thead>\n",
       "    <tr style=\"text-align: right;\">\n",
       "      <th></th>\n",
       "      <th>id</th>\n",
       "      <th>col</th>\n",
       "      <th>row</th>\n",
       "      <th>location</th>\n",
       "      <th>places</th>\n",
       "      <th>categories</th>\n",
       "      <th>bounds</th>\n",
       "    </tr>\n",
       "  </thead>\n",
       "  <tbody>\n",
       "    <tr>\n",
       "      <td>0</td>\n",
       "      <td>1</td>\n",
       "      <td>1</td>\n",
       "      <td>1</td>\n",
       "      <td>{'lat': -22.125511589872737, 'lng': -51.392761...</td>\n",
       "      <td>[[{'geometry': {'location': {'lat': -22.121126...</td>\n",
       "      <td>[miscellaneous, services, food, stores, miscel...</td>\n",
       "      <td>{'north': -22.12326580166244, 'south': -22.127...</td>\n",
       "    </tr>\n",
       "    <tr>\n",
       "      <td>1</td>\n",
       "      <td>2</td>\n",
       "      <td>2</td>\n",
       "      <td>1</td>\n",
       "      <td>{'lat': -22.12551151830149, 'lng': -51.3879124...</td>\n",
       "      <td>[[{'geometry': {'location': {'lat': -22.121126...</td>\n",
       "      <td>[services, services, miscellaneous, stores, re...</td>\n",
       "      <td>{'north': -22.12326573009119, 'south': -22.127...</td>\n",
       "    </tr>\n",
       "    <tr>\n",
       "      <td>2</td>\n",
       "      <td>3</td>\n",
       "      <td>3</td>\n",
       "      <td>1</td>\n",
       "      <td>{'lat': -22.12551144673024, 'lng': -51.3830639...</td>\n",
       "      <td>[[{'geometry': {'location': {'lat': -22.121126...</td>\n",
       "      <td>[religious, administrative, stores, religious,...</td>\n",
       "      <td>{'north': -22.12326565851994, 'south': -22.127...</td>\n",
       "    </tr>\n",
       "  </tbody>\n",
       "</table>\n",
       "</div>"
      ],
      "text/plain": [
       "   id  col  row                                           location  \\\n",
       "0   1    1    1  {'lat': -22.125511589872737, 'lng': -51.392761...   \n",
       "1   2    2    1  {'lat': -22.12551151830149, 'lng': -51.3879124...   \n",
       "2   3    3    1  {'lat': -22.12551144673024, 'lng': -51.3830639...   \n",
       "\n",
       "                                              places  \\\n",
       "0  [[{'geometry': {'location': {'lat': -22.121126...   \n",
       "1  [[{'geometry': {'location': {'lat': -22.121126...   \n",
       "2  [[{'geometry': {'location': {'lat': -22.121126...   \n",
       "\n",
       "                                          categories  \\\n",
       "0  [miscellaneous, services, food, stores, miscel...   \n",
       "1  [services, services, miscellaneous, stores, re...   \n",
       "2  [religious, administrative, stores, religious,...   \n",
       "\n",
       "                                              bounds  \n",
       "0  {'north': -22.12326580166244, 'south': -22.127...  \n",
       "1  {'north': -22.12326573009119, 'south': -22.127...  \n",
       "2  {'north': -22.12326565851994, 'south': -22.127...  "
      ]
     },
     "execution_count": 4,
     "metadata": {},
     "output_type": "execute_result"
    }
   ],
   "source": [
    "data.head()"
   ]
  },
  {
   "cell_type": "code",
   "execution_count": 5,
   "metadata": {},
   "outputs": [
    {
     "data": {
      "text/plain": [
       "id                                                            1\n",
       "col                                                           1\n",
       "row                                                           1\n",
       "location      {'lat': -22.125511589872737, 'lng': -51.392761...\n",
       "places        [[{'geometry': {'location': {'lat': -22.121126...\n",
       "categories    [miscellaneous, services, food, stores, miscel...\n",
       "bounds        {'north': -22.12326580166244, 'south': -22.127...\n",
       "Name: 0, dtype: object"
      ]
     },
     "execution_count": 5,
     "metadata": {},
     "output_type": "execute_result"
    }
   ],
   "source": [
    "data.loc[0]"
   ]
  },
  {
   "cell_type": "code",
   "execution_count": null,
   "metadata": {},
   "outputs": [],
   "source": [
    "df_macroCategory = pd.DataFrame(list_macroCategory)\n",
    "df_macroCategory.head()"
   ]
  },
  {
   "cell_type": "code",
   "execution_count": 10,
   "metadata": {},
   "outputs": [
    {
     "data": {
      "text/plain": [
       "categories    [services, services, miscellaneous, stores, re...\n",
       "Name: 1, dtype: object"
      ]
     },
     "execution_count": 10,
     "metadata": {},
     "output_type": "execute_result"
    }
   ],
   "source": [
    "categories = pd.DataFrame(data.categories)\n",
    "categories.loc[1]"
   ]
  },
  {
   "cell_type": "code",
   "execution_count": 12,
   "metadata": {},
   "outputs": [],
   "source": [
    "categories = categories.rename(columns={\"categories\":\"name\"})"
   ]
  },
  {
   "cell_type": "code",
   "execution_count": 13,
   "metadata": {
    "scrolled": true
   },
   "outputs": [
    {
     "data": {
      "text/html": [
       "<div>\n",
       "<style scoped>\n",
       "    .dataframe tbody tr th:only-of-type {\n",
       "        vertical-align: middle;\n",
       "    }\n",
       "\n",
       "    .dataframe tbody tr th {\n",
       "        vertical-align: top;\n",
       "    }\n",
       "\n",
       "    .dataframe thead th {\n",
       "        text-align: right;\n",
       "    }\n",
       "</style>\n",
       "<table border=\"1\" class=\"dataframe\">\n",
       "  <thead>\n",
       "    <tr style=\"text-align: right;\">\n",
       "      <th></th>\n",
       "      <th>name</th>\n",
       "    </tr>\n",
       "  </thead>\n",
       "  <tbody>\n",
       "    <tr>\n",
       "      <td>0</td>\n",
       "      <td>[miscellaneous, services, food, stores, miscel...</td>\n",
       "    </tr>\n",
       "    <tr>\n",
       "      <td>1</td>\n",
       "      <td>[services, services, miscellaneous, stores, re...</td>\n",
       "    </tr>\n",
       "    <tr>\n",
       "      <td>2</td>\n",
       "      <td>[religious, administrative, stores, religious,...</td>\n",
       "    </tr>\n",
       "  </tbody>\n",
       "</table>\n",
       "</div>"
      ],
      "text/plain": [
       "                                                name\n",
       "0  [miscellaneous, services, food, stores, miscel...\n",
       "1  [services, services, miscellaneous, stores, re...\n",
       "2  [religious, administrative, stores, religious,..."
      ]
     },
     "execution_count": 13,
     "metadata": {},
     "output_type": "execute_result"
    }
   ],
   "source": [
    "categories.head()"
   ]
  },
  {
   "cell_type": "code",
   "execution_count": 152,
   "metadata": {},
   "outputs": [],
   "source": [
    "def sortCategories(category):\n",
    "    #array_category = pd.DataFrame(category)\n",
    "    list_category = []\n",
    "    #for lista in array_category:\n",
    "    for lista in category:\n",
    "        if lista != None:\n",
    "            list_category.append(lista)\n",
    "    list_category.sort()\n",
    "    return list_category"
   ]
  },
  {
   "cell_type": "code",
   "execution_count": 156,
   "metadata": {},
   "outputs": [],
   "source": [
    "def summarize_list(category):\n",
    "    sort_categories = sortCategories(category[0])\n",
    "    aux = sort_categories[0]\n",
    "    count = 0\n",
    "    summarize = {}\n",
    "    for item in sort_categories:\n",
    "        if aux == item:\n",
    "            count+=1\n",
    "        else:\n",
    "            summarize[aux] = count\n",
    "            count = 1\n",
    "            aux = item        \n",
    "    return summarize    \n"
   ]
  },
  {
   "cell_type": "code",
   "execution_count": 157,
   "metadata": {},
   "outputs": [],
   "source": [
    "def summarize_list1(category):\n",
    "    sort_categories = sortCategories(category[0])\n",
    "    return sort_categories    "
   ]
  },
  {
   "cell_type": "code",
   "execution_count": 184,
   "metadata": {},
   "outputs": [
    {
     "data": {
      "text/plain": [
       "{0: [('cultural', 1),\n",
       "  ('finance', 3),\n",
       "  ('food', 6),\n",
       "  ('health', 1),\n",
       "  ('miscellaneous', 24),\n",
       "  ('religious', 4),\n",
       "  ('services', 11)],\n",
       " 1: [('cultural', 2),\n",
       "  ('finance', 6),\n",
       "  ('food', 3),\n",
       "  ('health', 4),\n",
       "  ('miscellaneous', 23),\n",
       "  ('religious', 1),\n",
       "  ('services', 10)],\n",
       " 2: [('administrative', 1),\n",
       "  ('cultural', 2),\n",
       "  ('finance', 3),\n",
       "  ('food', 3),\n",
       "  ('health', 3),\n",
       "  ('miscellaneous', 22),\n",
       "  ('religious', 2),\n",
       "  ('services', 5)]}"
      ]
     },
     "execution_count": 184,
     "metadata": {},
     "output_type": "execute_result"
    }
   ],
   "source": [
    "a = {}\n",
    "b = {}\n",
    "obj = {}\n",
    "summarize = {}\n",
    "for index, row in categories.iterrows():\n",
    "    a = summarize_list(row)\n",
    "    b = sorted(a.items(), key=operator.itemgetter(0))\n",
    "    obj[index] = collections.OrderedDict(b)\n",
    "    \n",
    "obj"
   ]
  },
  {
   "cell_type": "code",
   "execution_count": 166,
   "metadata": {},
   "outputs": [
    {
     "data": {
      "text/html": [
       "<div>\n",
       "<style scoped>\n",
       "    .dataframe tbody tr th:only-of-type {\n",
       "        vertical-align: middle;\n",
       "    }\n",
       "\n",
       "    .dataframe tbody tr th {\n",
       "        vertical-align: top;\n",
       "    }\n",
       "\n",
       "    .dataframe thead th {\n",
       "        text-align: right;\n",
       "    }\n",
       "</style>\n",
       "<table border=\"1\" class=\"dataframe\">\n",
       "  <thead>\n",
       "    <tr style=\"text-align: right;\">\n",
       "      <th></th>\n",
       "      <th>id</th>\n",
       "      <th>col</th>\n",
       "      <th>row</th>\n",
       "      <th>location</th>\n",
       "      <th>places</th>\n",
       "      <th>categories</th>\n",
       "      <th>bounds</th>\n",
       "    </tr>\n",
       "  </thead>\n",
       "  <tbody>\n",
       "    <tr>\n",
       "      <td>0</td>\n",
       "      <td>1</td>\n",
       "      <td>1</td>\n",
       "      <td>1</td>\n",
       "      <td>{'lat': -22.125511589872737, 'lng': -51.392761...</td>\n",
       "      <td>[[{'geometry': {'location': {'lat': -22.121126...</td>\n",
       "      <td>[miscellaneous, services, food, stores, miscel...</td>\n",
       "      <td>{'north': -22.12326580166244, 'south': -22.127...</td>\n",
       "    </tr>\n",
       "    <tr>\n",
       "      <td>1</td>\n",
       "      <td>2</td>\n",
       "      <td>2</td>\n",
       "      <td>1</td>\n",
       "      <td>{'lat': -22.12551151830149, 'lng': -51.3879124...</td>\n",
       "      <td>[[{'geometry': {'location': {'lat': -22.121126...</td>\n",
       "      <td>[services, services, miscellaneous, stores, re...</td>\n",
       "      <td>{'north': -22.12326573009119, 'south': -22.127...</td>\n",
       "    </tr>\n",
       "    <tr>\n",
       "      <td>2</td>\n",
       "      <td>3</td>\n",
       "      <td>3</td>\n",
       "      <td>1</td>\n",
       "      <td>{'lat': -22.12551144673024, 'lng': -51.3830639...</td>\n",
       "      <td>[[{'geometry': {'location': {'lat': -22.121126...</td>\n",
       "      <td>[religious, administrative, stores, religious,...</td>\n",
       "      <td>{'north': -22.12326565851994, 'south': -22.127...</td>\n",
       "    </tr>\n",
       "  </tbody>\n",
       "</table>\n",
       "</div>"
      ],
      "text/plain": [
       "   id  col  row                                           location  \\\n",
       "0   1    1    1  {'lat': -22.125511589872737, 'lng': -51.392761...   \n",
       "1   2    2    1  {'lat': -22.12551151830149, 'lng': -51.3879124...   \n",
       "2   3    3    1  {'lat': -22.12551144673024, 'lng': -51.3830639...   \n",
       "\n",
       "                                              places  \\\n",
       "0  [[{'geometry': {'location': {'lat': -22.121126...   \n",
       "1  [[{'geometry': {'location': {'lat': -22.121126...   \n",
       "2  [[{'geometry': {'location': {'lat': -22.121126...   \n",
       "\n",
       "                                          categories  \\\n",
       "0  [miscellaneous, services, food, stores, miscel...   \n",
       "1  [services, services, miscellaneous, stores, re...   \n",
       "2  [religious, administrative, stores, religious,...   \n",
       "\n",
       "                                              bounds  \n",
       "0  {'north': -22.12326580166244, 'south': -22.127...  \n",
       "1  {'north': -22.12326573009119, 'south': -22.127...  \n",
       "2  {'north': -22.12326565851994, 'south': -22.127...  "
      ]
     },
     "execution_count": 166,
     "metadata": {},
     "output_type": "execute_result"
    }
   ],
   "source": [
    "data"
   ]
  },
  {
   "cell_type": "code",
   "execution_count": 167,
   "metadata": {},
   "outputs": [],
   "source": [
    "data2 = pd.DataFrame(data, columns = ['id', 'col', 'row', 'location', 'bounds','summarize'])"
   ]
  },
  {
   "cell_type": "code",
   "execution_count": 168,
   "metadata": {},
   "outputs": [
    {
     "data": {
      "text/html": [
       "<div>\n",
       "<style scoped>\n",
       "    .dataframe tbody tr th:only-of-type {\n",
       "        vertical-align: middle;\n",
       "    }\n",
       "\n",
       "    .dataframe tbody tr th {\n",
       "        vertical-align: top;\n",
       "    }\n",
       "\n",
       "    .dataframe thead th {\n",
       "        text-align: right;\n",
       "    }\n",
       "</style>\n",
       "<table border=\"1\" class=\"dataframe\">\n",
       "  <thead>\n",
       "    <tr style=\"text-align: right;\">\n",
       "      <th></th>\n",
       "      <th>id</th>\n",
       "      <th>col</th>\n",
       "      <th>row</th>\n",
       "      <th>location</th>\n",
       "      <th>bounds</th>\n",
       "      <th>summarize</th>\n",
       "    </tr>\n",
       "  </thead>\n",
       "  <tbody>\n",
       "    <tr>\n",
       "      <td>0</td>\n",
       "      <td>1</td>\n",
       "      <td>1</td>\n",
       "      <td>1</td>\n",
       "      <td>{'lat': -22.125511589872737, 'lng': -51.392761...</td>\n",
       "      <td>{'north': -22.12326580166244, 'south': -22.127...</td>\n",
       "      <td>NaN</td>\n",
       "    </tr>\n",
       "    <tr>\n",
       "      <td>1</td>\n",
       "      <td>2</td>\n",
       "      <td>2</td>\n",
       "      <td>1</td>\n",
       "      <td>{'lat': -22.12551151830149, 'lng': -51.3879124...</td>\n",
       "      <td>{'north': -22.12326573009119, 'south': -22.127...</td>\n",
       "      <td>NaN</td>\n",
       "    </tr>\n",
       "    <tr>\n",
       "      <td>2</td>\n",
       "      <td>3</td>\n",
       "      <td>3</td>\n",
       "      <td>1</td>\n",
       "      <td>{'lat': -22.12551144673024, 'lng': -51.3830639...</td>\n",
       "      <td>{'north': -22.12326565851994, 'south': -22.127...</td>\n",
       "      <td>NaN</td>\n",
       "    </tr>\n",
       "  </tbody>\n",
       "</table>\n",
       "</div>"
      ],
      "text/plain": [
       "   id  col  row                                           location  \\\n",
       "0   1    1    1  {'lat': -22.125511589872737, 'lng': -51.392761...   \n",
       "1   2    2    1  {'lat': -22.12551151830149, 'lng': -51.3879124...   \n",
       "2   3    3    1  {'lat': -22.12551144673024, 'lng': -51.3830639...   \n",
       "\n",
       "                                              bounds  summarize  \n",
       "0  {'north': -22.12326580166244, 'south': -22.127...        NaN  \n",
       "1  {'north': -22.12326573009119, 'south': -22.127...        NaN  \n",
       "2  {'north': -22.12326565851994, 'south': -22.127...        NaN  "
      ]
     },
     "execution_count": 168,
     "metadata": {},
     "output_type": "execute_result"
    }
   ],
   "source": [
    "data2"
   ]
  },
  {
   "cell_type": "code",
   "execution_count": 176,
   "metadata": {},
   "outputs": [],
   "source": [
    "data2['summarize'] = pd.Series(obj)"
   ]
  },
  {
   "cell_type": "code",
   "execution_count": 177,
   "metadata": {},
   "outputs": [
    {
     "data": {
      "text/html": [
       "<div>\n",
       "<style scoped>\n",
       "    .dataframe tbody tr th:only-of-type {\n",
       "        vertical-align: middle;\n",
       "    }\n",
       "\n",
       "    .dataframe tbody tr th {\n",
       "        vertical-align: top;\n",
       "    }\n",
       "\n",
       "    .dataframe thead th {\n",
       "        text-align: right;\n",
       "    }\n",
       "</style>\n",
       "<table border=\"1\" class=\"dataframe\">\n",
       "  <thead>\n",
       "    <tr style=\"text-align: right;\">\n",
       "      <th></th>\n",
       "      <th>id</th>\n",
       "      <th>col</th>\n",
       "      <th>row</th>\n",
       "      <th>location</th>\n",
       "      <th>bounds</th>\n",
       "      <th>summarize</th>\n",
       "    </tr>\n",
       "  </thead>\n",
       "  <tbody>\n",
       "    <tr>\n",
       "      <td>0</td>\n",
       "      <td>1</td>\n",
       "      <td>1</td>\n",
       "      <td>1</td>\n",
       "      <td>{'lat': -22.125511589872737, 'lng': -51.392761...</td>\n",
       "      <td>{'north': -22.12326580166244, 'south': -22.127...</td>\n",
       "      <td>{'cultural': 1, 'finance': 3, 'food': 6, 'heal...</td>\n",
       "    </tr>\n",
       "    <tr>\n",
       "      <td>1</td>\n",
       "      <td>2</td>\n",
       "      <td>2</td>\n",
       "      <td>1</td>\n",
       "      <td>{'lat': -22.12551151830149, 'lng': -51.3879124...</td>\n",
       "      <td>{'north': -22.12326573009119, 'south': -22.127...</td>\n",
       "      <td>{'cultural': 2, 'finance': 6, 'food': 3, 'heal...</td>\n",
       "    </tr>\n",
       "    <tr>\n",
       "      <td>2</td>\n",
       "      <td>3</td>\n",
       "      <td>3</td>\n",
       "      <td>1</td>\n",
       "      <td>{'lat': -22.12551144673024, 'lng': -51.3830639...</td>\n",
       "      <td>{'north': -22.12326565851994, 'south': -22.127...</td>\n",
       "      <td>{'administrative': 1, 'cultural': 2, 'finance'...</td>\n",
       "    </tr>\n",
       "  </tbody>\n",
       "</table>\n",
       "</div>"
      ],
      "text/plain": [
       "   id  col  row                                           location  \\\n",
       "0   1    1    1  {'lat': -22.125511589872737, 'lng': -51.392761...   \n",
       "1   2    2    1  {'lat': -22.12551151830149, 'lng': -51.3879124...   \n",
       "2   3    3    1  {'lat': -22.12551144673024, 'lng': -51.3830639...   \n",
       "\n",
       "                                              bounds  \\\n",
       "0  {'north': -22.12326580166244, 'south': -22.127...   \n",
       "1  {'north': -22.12326573009119, 'south': -22.127...   \n",
       "2  {'north': -22.12326565851994, 'south': -22.127...   \n",
       "\n",
       "                                           summarize  \n",
       "0  {'cultural': 1, 'finance': 3, 'food': 6, 'heal...  \n",
       "1  {'cultural': 2, 'finance': 6, 'food': 3, 'heal...  \n",
       "2  {'administrative': 1, 'cultural': 2, 'finance'...  "
      ]
     },
     "execution_count": 177,
     "metadata": {},
     "output_type": "execute_result"
    }
   ],
   "source": [
    "data2"
   ]
  },
  {
   "cell_type": "code",
   "execution_count": null,
   "metadata": {},
   "outputs": [],
   "source": []
  }
 ],
 "metadata": {
  "kernelspec": {
   "display_name": "Python 3",
   "language": "python",
   "name": "python3"
  },
  "language_info": {
   "codemirror_mode": {
    "name": "ipython",
    "version": 3
   },
   "file_extension": ".py",
   "mimetype": "text/x-python",
   "name": "python",
   "nbconvert_exporter": "python",
   "pygments_lexer": "ipython3",
   "version": "3.7.4"
  }
 },
 "nbformat": 4,
 "nbformat_minor": 2
}
