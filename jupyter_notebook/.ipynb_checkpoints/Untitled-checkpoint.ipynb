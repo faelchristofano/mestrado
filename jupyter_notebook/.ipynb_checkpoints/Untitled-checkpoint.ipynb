{
 "cells": [
  {
   "cell_type": "code",
   "execution_count": 1,
   "metadata": {},
   "outputs": [],
   "source": [
    "import pandas as pd\n",
    "import numpy as np\n",
    "import matplotlib.pyplot as plt\n",
    "import json"
   ]
  },
  {
   "cell_type": "code",
   "execution_count": 5,
   "metadata": {},
   "outputs": [],
   "source": [
    "data = pd.read_json('data.json')"
   ]
  },
  {
   "cell_type": "code",
   "execution_count": 12,
   "metadata": {},
   "outputs": [
    {
     "ename": "NameError",
     "evalue": "name 'food' is not defined",
     "output_type": "error",
     "traceback": [
      "\u001b[1;31m---------------------------------------------------------------------------\u001b[0m",
      "\u001b[1;31mNameError\u001b[0m                                 Traceback (most recent call last)",
      "\u001b[1;32m<ipython-input-12-9711e19573b3>\u001b[0m in \u001b[0;36m<module>\u001b[1;34m\u001b[0m\n\u001b[0;32m      1\u001b[0m list_macroCategory = {\n\u001b[1;32m----> 2\u001b[1;33m     \u001b[0mfood\u001b[0m\u001b[1;33m:\u001b[0m \u001b[1;33m[\u001b[0m\u001b[1;34m\"bakery\"\u001b[0m\u001b[1;33m,\u001b[0m \u001b[1;34m\"bar\"\u001b[0m\u001b[1;33m,\u001b[0m \u001b[1;34m\"cafe\"\u001b[0m\u001b[1;33m,\u001b[0m \u001b[1;34m\"food\"\u001b[0m\u001b[1;33m,\u001b[0m \u001b[1;34m\"liquor_store\"\u001b[0m\u001b[1;33m,\u001b[0m \u001b[1;34m\"meal_delivery\"\u001b[0m\u001b[1;33m,\u001b[0m \u001b[1;34m\"meal_takeaway\"\u001b[0m\u001b[1;33m,\u001b[0m \u001b[1;34m\"restaurant\"\u001b[0m\u001b[1;33m]\u001b[0m\u001b[1;33m,\u001b[0m\u001b[1;33m\u001b[0m\u001b[1;33m\u001b[0m\u001b[0m\n\u001b[0m\u001b[0;32m      3\u001b[0m     \u001b[0mfinance\u001b[0m\u001b[1;33m:\u001b[0m \u001b[1;33m[\u001b[0m\u001b[1;34m\"accounting\"\u001b[0m\u001b[1;33m,\u001b[0m \u001b[1;34m\"atm\"\u001b[0m\u001b[1;33m,\u001b[0m \u001b[1;34m\"bank\"\u001b[0m\u001b[1;33m,\u001b[0m \u001b[1;34m\"finance\"\u001b[0m\u001b[1;33m]\u001b[0m\u001b[1;33m,\u001b[0m\u001b[1;33m\u001b[0m\u001b[1;33m\u001b[0m\u001b[0m\n\u001b[0;32m      4\u001b[0m     \u001b[0madministrative\u001b[0m\u001b[1;33m:\u001b[0m \u001b[1;33m[\u001b[0m\u001b[1;34m\"city_hall\"\u001b[0m\u001b[1;33m,\u001b[0m \u001b[1;34m\"courthouse\"\u001b[0m\u001b[1;33m,\u001b[0m \u001b[1;34m\"embassy\"\u001b[0m\u001b[1;33m,\u001b[0m \u001b[1;34m\"fire_station\"\u001b[0m\u001b[1;33m,\u001b[0m \u001b[1;34m\"local_government_office\"\u001b[0m\u001b[1;33m,\u001b[0m \u001b[1;34m\"police\"\u001b[0m\u001b[1;33m]\u001b[0m\u001b[1;33m,\u001b[0m\u001b[1;33m\u001b[0m\u001b[1;33m\u001b[0m\u001b[0m\n\u001b[0;32m      5\u001b[0m     \u001b[0mtransport\u001b[0m\u001b[1;33m:\u001b[0m \u001b[1;33m[\u001b[0m\u001b[1;34m\"airport\"\u001b[0m\u001b[1;33m,\u001b[0m \u001b[1;34m\"bus_station\"\u001b[0m\u001b[1;33m,\u001b[0m \u001b[1;34m\"subway_station\"\u001b[0m\u001b[1;33m,\u001b[0m \u001b[1;34m\"taxi_stand\"\u001b[0m\u001b[1;33m,\u001b[0m \u001b[1;34m\"train_station\"\u001b[0m\u001b[1;33m,\u001b[0m \u001b[1;34m\"transit_station\"\u001b[0m\u001b[1;33m,\u001b[0m \u001b[1;34m\"light_rail_station\"\u001b[0m\u001b[1;33m]\u001b[0m\u001b[1;33m,\u001b[0m\u001b[1;33m\u001b[0m\u001b[1;33m\u001b[0m\u001b[0m\n",
      "\u001b[1;31mNameError\u001b[0m: name 'food' is not defined"
     ]
    }
   ],
   "source": [
    "list_macroCategory = [{\n",
    "    \"food\": [\"bakery\", \"bar\", \"cafe\", \"food\", \"liquor_store\", \"meal_delivery\", \"meal_takeaway\", \"restaurant\"],\n",
    "    \"finance\": [\"accounting\", \"atm\", \"bank\", \"finance\"],\n",
    "    \"administrative\": [\"city_hall\", \"courthouse\", \"embassy\", \"fire_station\", \"local_government_office\", \"police\"],\n",
    "    \"transport\": [\"airport\", \"bus_station\", \"subway_station\", \"taxi_stand\", \"train_station\", \"transit_station\", \"light_rail_station\"],\n",
    "    \"cultural\": [\"art_gallery\", \"library\", \"school\", \"university\", \"movie_theater\", \"museum\"],\n",
    "    \"entertainment\": [\"night_club\", \"amusement_park\", \"casino\", \"bowling _lley\", \"campground\", \"zoo\", \"aquarium\", \"stadium\"],\n",
    "    \"health\": [\"pharmacy\", \"physiotherapist\", \"beauty_salon\", \"dentist\", \"doctor\", \"gym\", \"hair_care\", \"hospital\", \"veterinary_care\", \"health\", \"spa\"],\n",
    "    \"services\": [\"travel_agency\", \"funeral_home\", \"painter\", \"park\", \"post_office\", \"parking\", \"roofing_contractor\", \"locksmith\", \"general_contractor\",\n",
    "        \"lodging\", \"moving_company\", \"car_repair\", \"car_wash\", \"electrician\", \"car_rental\", \"laundry\", \"gas_station\", \"plumber\",\n",
    "        \"real_estate_agency\", \"recreational_vehicle_park\", \"insurance_agency\", \"lawyer\"\n",
    "    ],\n",
    "    \"religious\": [\"mosque\", \"cemetery\", \"church\", \"hindu_temple\", \"synagogue\", \"place_of_worship\"],\n",
    "    \"stores\": [\"shoe_store\", \"shopping_mall\", \"pet_store\", \"bicycle_store\", \"book_store\", \"car_dealer\", \"clothing_store\",\n",
    "        \"jewelry_store\", \"florist\", \"store\", \"furniture_store\", \"convenience_store\", \"department_store\", \"electronics_store\",\n",
    "        \"hardware_store\", \"home_goods_store\", \"storage\", \"grocery_or_supermarket\", \"movie_rental\"\n",
    "    ],\n",
    "    \"miscellaneous\": [\"point_of_interest\", \"establishment\", \"country\", \"floor\", \"intersection\", \"locality\", \"natural_feature\", \"geocode\",\n",
    "        \"colloquial\", \"area\", \"room\", \"post_box\", \"neighborhood\", \"postal_code\", \"postal_town\", \"political\", \"postal_code_prefix\",\n",
    "        \"postal_code_suffix\", \"premise\", \"route\", \"street_address\", \"subpremise\", \"street_number\", \"sublocality_(SL)\"\n",
    "    ]\n",
    "}]"
   ]
  },
  {
   "cell_type": "code",
   "execution_count": 6,
   "metadata": {},
   "outputs": [
    {
     "data": {
      "text/html": [
       "<div>\n",
       "<style scoped>\n",
       "    .dataframe tbody tr th:only-of-type {\n",
       "        vertical-align: middle;\n",
       "    }\n",
       "\n",
       "    .dataframe tbody tr th {\n",
       "        vertical-align: top;\n",
       "    }\n",
       "\n",
       "    .dataframe thead th {\n",
       "        text-align: right;\n",
       "    }\n",
       "</style>\n",
       "<table border=\"1\" class=\"dataframe\">\n",
       "  <thead>\n",
       "    <tr style=\"text-align: right;\">\n",
       "      <th></th>\n",
       "      <th>id</th>\n",
       "      <th>col</th>\n",
       "      <th>row</th>\n",
       "      <th>location</th>\n",
       "      <th>places</th>\n",
       "      <th>categories</th>\n",
       "      <th>bounds</th>\n",
       "    </tr>\n",
       "  </thead>\n",
       "  <tbody>\n",
       "    <tr>\n",
       "      <td>0</td>\n",
       "      <td>1</td>\n",
       "      <td>1</td>\n",
       "      <td>1</td>\n",
       "      <td>{'lat': -22.125511589872737, 'lng': -51.392761...</td>\n",
       "      <td>[[{'geometry': {'location': {'lat': -22.121126...</td>\n",
       "      <td>[miscellaneous, services, food, stores, miscel...</td>\n",
       "      <td>{'north': -22.12326580166244, 'south': -22.127...</td>\n",
       "    </tr>\n",
       "    <tr>\n",
       "      <td>1</td>\n",
       "      <td>2</td>\n",
       "      <td>2</td>\n",
       "      <td>1</td>\n",
       "      <td>{'lat': -22.12551151830149, 'lng': -51.3879124...</td>\n",
       "      <td>[[{'geometry': {'location': {'lat': -22.121126...</td>\n",
       "      <td>[services, services, miscellaneous, stores, re...</td>\n",
       "      <td>{'north': -22.12326573009119, 'south': -22.127...</td>\n",
       "    </tr>\n",
       "    <tr>\n",
       "      <td>2</td>\n",
       "      <td>3</td>\n",
       "      <td>3</td>\n",
       "      <td>1</td>\n",
       "      <td>{'lat': -22.12551144673024, 'lng': -51.3830639...</td>\n",
       "      <td>[[{'geometry': {'location': {'lat': -22.121126...</td>\n",
       "      <td>[religious, administrative, stores, religious,...</td>\n",
       "      <td>{'north': -22.12326565851994, 'south': -22.127...</td>\n",
       "    </tr>\n",
       "  </tbody>\n",
       "</table>\n",
       "</div>"
      ],
      "text/plain": [
       "   id  col  row                                           location  \\\n",
       "0   1    1    1  {'lat': -22.125511589872737, 'lng': -51.392761...   \n",
       "1   2    2    1  {'lat': -22.12551151830149, 'lng': -51.3879124...   \n",
       "2   3    3    1  {'lat': -22.12551144673024, 'lng': -51.3830639...   \n",
       "\n",
       "                                              places  \\\n",
       "0  [[{'geometry': {'location': {'lat': -22.121126...   \n",
       "1  [[{'geometry': {'location': {'lat': -22.121126...   \n",
       "2  [[{'geometry': {'location': {'lat': -22.121126...   \n",
       "\n",
       "                                          categories  \\\n",
       "0  [miscellaneous, services, food, stores, miscel...   \n",
       "1  [services, services, miscellaneous, stores, re...   \n",
       "2  [religious, administrative, stores, religious,...   \n",
       "\n",
       "                                              bounds  \n",
       "0  {'north': -22.12326580166244, 'south': -22.127...  \n",
       "1  {'north': -22.12326573009119, 'south': -22.127...  \n",
       "2  {'north': -22.12326565851994, 'south': -22.127...  "
      ]
     },
     "execution_count": 6,
     "metadata": {},
     "output_type": "execute_result"
    }
   ],
   "source": [
    "data.head()"
   ]
  },
  {
   "cell_type": "code",
   "execution_count": 8,
   "metadata": {},
   "outputs": [],
   "source": [
    "categories = data.categories"
   ]
  },
  {
   "cell_type": "code",
   "execution_count": 9,
   "metadata": {},
   "outputs": [
    {
     "data": {
      "text/plain": [
       "0    [miscellaneous, services, food, stores, miscel...\n",
       "1    [services, services, miscellaneous, stores, re...\n",
       "2    [religious, administrative, stores, religious,...\n",
       "Name: categories, dtype: object"
      ]
     },
     "execution_count": 9,
     "metadata": {},
     "output_type": "execute_result"
    }
   ],
   "source": [
    "categories.head()"
   ]
  },
  {
   "cell_type": "code",
   "execution_count": 11,
   "metadata": {},
   "outputs": [
    {
     "name": "stdout",
     "output_type": "stream",
     "text": [
      "['miscellaneous', 'services', 'food', 'stores', 'miscellaneous', 'miscellaneous', 'religious', 'services', 'services', 'services', 'health', 'stores', 'miscellaneous', 'services', 'food', 'stores', 'miscellaneous', 'miscellaneous', 'religious', 'food', 'miscellaneous', 'stores', 'stores', 'stores', 'miscellaneous', 'religious', 'miscellaneous', 'miscellaneous', 'miscellaneous', 'services', 'food', None, 'miscellaneous', 'miscellaneous', 'food', 'services', 'stores', 'miscellaneous', 'miscellaneous', 'finance', 'miscellaneous', 'miscellaneous', 'miscellaneous', 'miscellaneous', 'miscellaneous', 'services', 'finance', 'stores', 'services', 'religious', 'food', 'services', 'finance', 'miscellaneous', 'cultural', 'miscellaneous', 'miscellaneous', 'services', 'miscellaneous']\n",
      "['services', 'services', 'miscellaneous', 'stores', 'religious', 'miscellaneous', 'miscellaneous', 'miscellaneous', 'health', 'services', 'miscellaneous', 'services', 'miscellaneous', 'miscellaneous', 'stores', 'stores', 'services', 'food', 'finance', 'miscellaneous', 'stores', 'services', None, 'cultural', 'miscellaneous', 'cultural', 'finance', 'finance', 'services', 'finance', 'services', 'miscellaneous', 'miscellaneous', 'miscellaneous', 'stores', 'miscellaneous', 'miscellaneous', 'miscellaneous', 'miscellaneous', 'finance', 'food', 'health', 'services', 'miscellaneous', 'miscellaneous', 'miscellaneous', 'stores', 'miscellaneous', 'health', 'food', 'stores', 'finance', 'miscellaneous', 'services', None, 'health', 'miscellaneous', 'miscellaneous']\n",
      "['religious', 'administrative', 'stores', 'religious', 'stores', 'stores', 'health', 'miscellaneous', 'stores', 'stores', 'miscellaneous', 'miscellaneous', 'miscellaneous', 'food', 'miscellaneous', 'miscellaneous', 'health', 'miscellaneous', 'miscellaneous', 'stores', 'stores', 'stores', 'stores', 'finance', 'miscellaneous', 'cultural', 'miscellaneous', 'stores', 'miscellaneous', 'miscellaneous', 'health', 'stores', 'services', 'services', 'miscellaneous', 'miscellaneous', 'miscellaneous', 'miscellaneous', 'miscellaneous', 'miscellaneous', 'miscellaneous', 'services', 'stores', 'services', 'stores', 'food', 'finance', 'stores', 'services', 'miscellaneous', 'finance', 'miscellaneous', 'cultural', 'food', 'stores', 'stores', 'miscellaneous', 'stores']\n"
     ]
    }
   ],
   "source": [
    "for category in categories:\n",
    "    print(category)"
   ]
  },
  {
   "cell_type": "code",
   "execution_count": null,
   "metadata": {},
   "outputs": [],
   "source": []
  }
 ],
 "metadata": {
  "kernelspec": {
   "display_name": "Python 3",
   "language": "python",
   "name": "python3"
  },
  "language_info": {
   "codemirror_mode": {
    "name": "ipython",
    "version": 3
   },
   "file_extension": ".py",
   "mimetype": "text/x-python",
   "name": "python",
   "nbconvert_exporter": "python",
   "pygments_lexer": "ipython3",
   "version": "3.7.4"
  }
 },
 "nbformat": 4,
 "nbformat_minor": 2
}
