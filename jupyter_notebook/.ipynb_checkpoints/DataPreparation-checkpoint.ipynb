{
 "cells": [
  {
   "cell_type": "code",
   "execution_count": 3,
   "metadata": {},
   "outputs": [],
   "source": [
    "import pandas as pd\n",
    "import numpy as np\n",
    "import matplotlib.pyplot as plt\n",
    "import json"
   ]
  },
  {
   "cell_type": "code",
   "execution_count": 4,
   "metadata": {},
   "outputs": [],
   "source": [
    "data = pd.read_json('data.json')"
   ]
  },
  {
   "cell_type": "code",
   "execution_count": 5,
   "metadata": {},
   "outputs": [],
   "source": [
    "list_macroCategory = [{\n",
    "    \"food\": [\"bakery\", \"bar\", \"cafe\", \"food\", \"liquor_store\", \"meal_delivery\", \"meal_takeaway\", \"restaurant\"],\n",
    "    \"finance\": [\"accounting\", \"atm\", \"bank\", \"finance\"],\n",
    "    \"administrative\": [\"city_hall\", \"courthouse\", \"embassy\", \"fire_station\", \"local_government_office\", \"police\"],\n",
    "    \"transport\": [\"airport\", \"bus_station\", \"subway_station\", \"taxi_stand\", \"train_station\", \"transit_station\", \"light_rail_station\"],\n",
    "    \"cultural\": [\"art_gallery\", \"library\", \"school\", \"university\", \"movie_theater\", \"museum\"],\n",
    "    \"entertainment\": [\"night_club\", \"amusement_park\", \"casino\", \"bowling _lley\", \"campground\", \"zoo\", \"aquarium\", \"stadium\"],\n",
    "    \"health\": [\"pharmacy\", \"physiotherapist\", \"beauty_salon\", \"dentist\", \"doctor\", \"gym\", \"hair_care\", \"hospital\", \"veterinary_care\", \"health\", \"spa\"],\n",
    "    \"services\": [\"travel_agency\", \"funeral_home\", \"painter\", \"park\", \"post_office\", \"parking\", \"roofing_contractor\", \"locksmith\", \"general_contractor\",\n",
    "        \"lodging\", \"moving_company\", \"car_repair\", \"car_wash\", \"electrician\", \"car_rental\", \"laundry\", \"gas_station\", \"plumber\",\n",
    "        \"real_estate_agency\", \"recreational_vehicle_park\", \"insurance_agency\", \"lawyer\"\n",
    "    ],\n",
    "    \"religious\": [\"mosque\", \"cemetery\", \"church\", \"hindu_temple\", \"synagogue\", \"place_of_worship\"],\n",
    "    \"stores\": [\"shoe_store\", \"shopping_mall\", \"pet_store\", \"bicycle_store\", \"book_store\", \"car_dealer\", \"clothing_store\",\n",
    "        \"jewelry_store\", \"florist\", \"store\", \"furniture_store\", \"convenience_store\", \"department_store\", \"electronics_store\",\n",
    "        \"hardware_store\", \"home_goods_store\", \"storage\", \"grocery_or_supermarket\", \"movie_rental\"\n",
    "    ],\n",
    "    \"miscellaneous\": [\"point_of_interest\", \"establishment\", \"country\", \"floor\", \"intersection\", \"locality\", \"natural_feature\", \"geocode\",\n",
    "        \"colloquial\", \"area\", \"room\", \"post_box\", \"neighborhood\", \"postal_code\", \"postal_town\", \"political\", \"postal_code_prefix\",\n",
    "        \"postal_code_suffix\", \"premise\", \"route\", \"street_address\", \"subpremise\", \"street_number\", \"sublocality_(SL)\"\n",
    "    ]\n",
    "}]"
   ]
  },
  {
   "cell_type": "code",
   "execution_count": 6,
   "metadata": {},
   "outputs": [
    {
     "data": {
      "text/html": [
       "<div>\n",
       "<style scoped>\n",
       "    .dataframe tbody tr th:only-of-type {\n",
       "        vertical-align: middle;\n",
       "    }\n",
       "\n",
       "    .dataframe tbody tr th {\n",
       "        vertical-align: top;\n",
       "    }\n",
       "\n",
       "    .dataframe thead th {\n",
       "        text-align: right;\n",
       "    }\n",
       "</style>\n",
       "<table border=\"1\" class=\"dataframe\">\n",
       "  <thead>\n",
       "    <tr style=\"text-align: right;\">\n",
       "      <th></th>\n",
       "      <th>id</th>\n",
       "      <th>col</th>\n",
       "      <th>row</th>\n",
       "      <th>location</th>\n",
       "      <th>places</th>\n",
       "      <th>categories</th>\n",
       "      <th>bounds</th>\n",
       "    </tr>\n",
       "  </thead>\n",
       "  <tbody>\n",
       "    <tr>\n",
       "      <td>0</td>\n",
       "      <td>1</td>\n",
       "      <td>1</td>\n",
       "      <td>1</td>\n",
       "      <td>{'lat': -22.125511589872737, 'lng': -51.392761...</td>\n",
       "      <td>[[{'geometry': {'location': {'lat': -22.121126...</td>\n",
       "      <td>[miscellaneous, services, food, stores, miscel...</td>\n",
       "      <td>{'north': -22.12326580166244, 'south': -22.127...</td>\n",
       "    </tr>\n",
       "    <tr>\n",
       "      <td>1</td>\n",
       "      <td>2</td>\n",
       "      <td>2</td>\n",
       "      <td>1</td>\n",
       "      <td>{'lat': -22.12551151830149, 'lng': -51.3879124...</td>\n",
       "      <td>[[{'geometry': {'location': {'lat': -22.121126...</td>\n",
       "      <td>[services, services, miscellaneous, stores, re...</td>\n",
       "      <td>{'north': -22.12326573009119, 'south': -22.127...</td>\n",
       "    </tr>\n",
       "    <tr>\n",
       "      <td>2</td>\n",
       "      <td>3</td>\n",
       "      <td>3</td>\n",
       "      <td>1</td>\n",
       "      <td>{'lat': -22.12551144673024, 'lng': -51.3830639...</td>\n",
       "      <td>[[{'geometry': {'location': {'lat': -22.121126...</td>\n",
       "      <td>[religious, administrative, stores, religious,...</td>\n",
       "      <td>{'north': -22.12326565851994, 'south': -22.127...</td>\n",
       "    </tr>\n",
       "  </tbody>\n",
       "</table>\n",
       "</div>"
      ],
      "text/plain": [
       "   id  col  row                                           location  \\\n",
       "0   1    1    1  {'lat': -22.125511589872737, 'lng': -51.392761...   \n",
       "1   2    2    1  {'lat': -22.12551151830149, 'lng': -51.3879124...   \n",
       "2   3    3    1  {'lat': -22.12551144673024, 'lng': -51.3830639...   \n",
       "\n",
       "                                              places  \\\n",
       "0  [[{'geometry': {'location': {'lat': -22.121126...   \n",
       "1  [[{'geometry': {'location': {'lat': -22.121126...   \n",
       "2  [[{'geometry': {'location': {'lat': -22.121126...   \n",
       "\n",
       "                                          categories  \\\n",
       "0  [miscellaneous, services, food, stores, miscel...   \n",
       "1  [services, services, miscellaneous, stores, re...   \n",
       "2  [religious, administrative, stores, religious,...   \n",
       "\n",
       "                                              bounds  \n",
       "0  {'north': -22.12326580166244, 'south': -22.127...  \n",
       "1  {'north': -22.12326573009119, 'south': -22.127...  \n",
       "2  {'north': -22.12326565851994, 'south': -22.127...  "
      ]
     },
     "execution_count": 6,
     "metadata": {},
     "output_type": "execute_result"
    }
   ],
   "source": [
    "data.head()"
   ]
  },
  {
   "cell_type": "code",
   "execution_count": 7,
   "metadata": {},
   "outputs": [
    {
     "data": {
      "text/html": [
       "<div>\n",
       "<style scoped>\n",
       "    .dataframe tbody tr th:only-of-type {\n",
       "        vertical-align: middle;\n",
       "    }\n",
       "\n",
       "    .dataframe tbody tr th {\n",
       "        vertical-align: top;\n",
       "    }\n",
       "\n",
       "    .dataframe thead th {\n",
       "        text-align: right;\n",
       "    }\n",
       "</style>\n",
       "<table border=\"1\" class=\"dataframe\">\n",
       "  <thead>\n",
       "    <tr style=\"text-align: right;\">\n",
       "      <th></th>\n",
       "      <th>food</th>\n",
       "      <th>finance</th>\n",
       "      <th>administrative</th>\n",
       "      <th>transport</th>\n",
       "      <th>cultural</th>\n",
       "      <th>entertainment</th>\n",
       "      <th>health</th>\n",
       "      <th>services</th>\n",
       "      <th>religious</th>\n",
       "      <th>stores</th>\n",
       "      <th>miscellaneous</th>\n",
       "    </tr>\n",
       "  </thead>\n",
       "  <tbody>\n",
       "    <tr>\n",
       "      <td>0</td>\n",
       "      <td>[bakery, bar, cafe, food, liquor_store, meal_d...</td>\n",
       "      <td>[accounting, atm, bank, finance]</td>\n",
       "      <td>[city_hall, courthouse, embassy, fire_station,...</td>\n",
       "      <td>[airport, bus_station, subway_station, taxi_st...</td>\n",
       "      <td>[art_gallery, library, school, university, mov...</td>\n",
       "      <td>[night_club, amusement_park, casino, bowling _...</td>\n",
       "      <td>[pharmacy, physiotherapist, beauty_salon, dent...</td>\n",
       "      <td>[travel_agency, funeral_home, painter, park, p...</td>\n",
       "      <td>[mosque, cemetery, church, hindu_temple, synag...</td>\n",
       "      <td>[shoe_store, shopping_mall, pet_store, bicycle...</td>\n",
       "      <td>[point_of_interest, establishment, country, fl...</td>\n",
       "    </tr>\n",
       "  </tbody>\n",
       "</table>\n",
       "</div>"
      ],
      "text/plain": [
       "                                                food  \\\n",
       "0  [bakery, bar, cafe, food, liquor_store, meal_d...   \n",
       "\n",
       "                            finance  \\\n",
       "0  [accounting, atm, bank, finance]   \n",
       "\n",
       "                                      administrative  \\\n",
       "0  [city_hall, courthouse, embassy, fire_station,...   \n",
       "\n",
       "                                           transport  \\\n",
       "0  [airport, bus_station, subway_station, taxi_st...   \n",
       "\n",
       "                                            cultural  \\\n",
       "0  [art_gallery, library, school, university, mov...   \n",
       "\n",
       "                                       entertainment  \\\n",
       "0  [night_club, amusement_park, casino, bowling _...   \n",
       "\n",
       "                                              health  \\\n",
       "0  [pharmacy, physiotherapist, beauty_salon, dent...   \n",
       "\n",
       "                                            services  \\\n",
       "0  [travel_agency, funeral_home, painter, park, p...   \n",
       "\n",
       "                                           religious  \\\n",
       "0  [mosque, cemetery, church, hindu_temple, synag...   \n",
       "\n",
       "                                              stores  \\\n",
       "0  [shoe_store, shopping_mall, pet_store, bicycle...   \n",
       "\n",
       "                                       miscellaneous  \n",
       "0  [point_of_interest, establishment, country, fl...  "
      ]
     },
     "execution_count": 7,
     "metadata": {},
     "output_type": "execute_result"
    }
   ],
   "source": [
    "df_macroCategory = pd.DataFrame(list_macroCategory)\n",
    "df_macroCategory.head()"
   ]
  },
  {
   "cell_type": "code",
   "execution_count": 74,
   "metadata": {},
   "outputs": [],
   "source": [
    "categories = pd.DataFrame(data.categories)\n",
    "categories = categories.rename(columns={\"categories\":\"name\"})"
   ]
  },
  {
   "cell_type": "code",
   "execution_count": 75,
   "metadata": {
    "scrolled": true
   },
   "outputs": [
    {
     "data": {
      "text/html": [
       "<div>\n",
       "<style scoped>\n",
       "    .dataframe tbody tr th:only-of-type {\n",
       "        vertical-align: middle;\n",
       "    }\n",
       "\n",
       "    .dataframe tbody tr th {\n",
       "        vertical-align: top;\n",
       "    }\n",
       "\n",
       "    .dataframe thead th {\n",
       "        text-align: right;\n",
       "    }\n",
       "</style>\n",
       "<table border=\"1\" class=\"dataframe\">\n",
       "  <thead>\n",
       "    <tr style=\"text-align: right;\">\n",
       "      <th></th>\n",
       "      <th>name</th>\n",
       "    </tr>\n",
       "  </thead>\n",
       "  <tbody>\n",
       "    <tr>\n",
       "      <td>0</td>\n",
       "      <td>[food, food, food, food, health, miscellaneous...</td>\n",
       "    </tr>\n",
       "    <tr>\n",
       "      <td>1</td>\n",
       "      <td>[finance, food, health, miscellaneous, miscell...</td>\n",
       "    </tr>\n",
       "    <tr>\n",
       "      <td>2</td>\n",
       "      <td>[religious, administrative, stores, religious,...</td>\n",
       "    </tr>\n",
       "  </tbody>\n",
       "</table>\n",
       "</div>"
      ],
      "text/plain": [
       "                                                name\n",
       "0  [food, food, food, food, health, miscellaneous...\n",
       "1  [finance, food, health, miscellaneous, miscell...\n",
       "2  [religious, administrative, stores, religious,..."
      ]
     },
     "execution_count": 75,
     "metadata": {},
     "output_type": "execute_result"
    }
   ],
   "source": [
    "categories.head()"
   ]
  },
  {
   "cell_type": "code",
   "execution_count": 94,
   "metadata": {},
   "outputs": [],
   "source": [
    "def sortCategories(categories):\n",
    "    array_category = categories.name\n",
    "    array_category = pd.DataFrame(array_category)\n",
    "    list_category = []\n",
    "    for lista in array_category.name[0]:\n",
    "        if lista != None:\n",
    "            list_category.append(lista)\n",
    "    list_category.sort()\n",
    "    return list_category"
   ]
  },
  {
   "cell_type": "code",
   "execution_count": 95,
   "metadata": {},
   "outputs": [
    {
     "data": {
      "text/plain": [
       "['cultural',\n",
       " 'finance',\n",
       " 'finance',\n",
       " 'finance',\n",
       " 'food',\n",
       " 'food',\n",
       " 'food',\n",
       " 'food',\n",
       " 'food',\n",
       " 'food',\n",
       " 'health',\n",
       " 'miscellaneous',\n",
       " 'miscellaneous',\n",
       " 'miscellaneous',\n",
       " 'miscellaneous',\n",
       " 'miscellaneous',\n",
       " 'miscellaneous',\n",
       " 'miscellaneous',\n",
       " 'miscellaneous',\n",
       " 'miscellaneous',\n",
       " 'miscellaneous',\n",
       " 'miscellaneous',\n",
       " 'miscellaneous',\n",
       " 'miscellaneous',\n",
       " 'miscellaneous',\n",
       " 'miscellaneous',\n",
       " 'miscellaneous',\n",
       " 'miscellaneous',\n",
       " 'miscellaneous',\n",
       " 'miscellaneous',\n",
       " 'miscellaneous',\n",
       " 'miscellaneous',\n",
       " 'miscellaneous',\n",
       " 'miscellaneous',\n",
       " 'miscellaneous',\n",
       " 'religious',\n",
       " 'religious',\n",
       " 'religious',\n",
       " 'religious',\n",
       " 'services',\n",
       " 'services',\n",
       " 'services',\n",
       " 'services',\n",
       " 'services',\n",
       " 'services',\n",
       " 'services',\n",
       " 'services',\n",
       " 'services',\n",
       " 'services',\n",
       " 'services',\n",
       " 'stores',\n",
       " 'stores',\n",
       " 'stores',\n",
       " 'stores',\n",
       " 'stores',\n",
       " 'stores',\n",
       " 'stores',\n",
       " 'stores']"
      ]
     },
     "execution_count": 95,
     "metadata": {},
     "output_type": "execute_result"
    }
   ],
   "source": [
    "sort_categories = sortCategories(categories)\n",
    "aux = sort_categories[1]\n",
    "count = 0\n",
    "summarize = []\n",
    "for item in sort_categories:\n",
    "    if aux = item:\n",
    "        count++\n",
    "    else:\n",
    "        summarize.append\n",
    "        aux = item\n",
    "        \n",
    "    "
   ]
  },
  {
   "cell_type": "code",
   "execution_count": 32,
   "metadata": {},
   "outputs": [
    {
     "ename": "NameError",
     "evalue": "name 'name' is not defined",
     "output_type": "error",
     "traceback": [
      "\u001b[1;31m---------------------------------------------------------------------------\u001b[0m",
      "\u001b[1;31mNameError\u001b[0m                                 Traceback (most recent call last)",
      "\u001b[1;32m<ipython-input-32-826ff1839d91>\u001b[0m in \u001b[0;36m<module>\u001b[1;34m\u001b[0m\n\u001b[0;32m      1\u001b[0m \u001b[1;32mfor\u001b[0m \u001b[0mcategory\u001b[0m \u001b[1;32min\u001b[0m \u001b[0mcategories\u001b[0m\u001b[1;33m:\u001b[0m\u001b[1;33m\u001b[0m\u001b[1;33m\u001b[0m\u001b[0m\n\u001b[1;32m----> 2\u001b[1;33m     \u001b[0mcategory_sort\u001b[0m \u001b[1;33m=\u001b[0m \u001b[0mpd\u001b[0m\u001b[1;33m.\u001b[0m\u001b[0mDataFrame\u001b[0m\u001b[1;33m(\u001b[0m\u001b[0mname\u001b[0m\u001b[1;33m)\u001b[0m\u001b[1;33m\u001b[0m\u001b[1;33m\u001b[0m\u001b[0m\n\u001b[0m\u001b[0;32m      3\u001b[0m     \u001b[0mcategory_sort\u001b[0m\u001b[1;33m.\u001b[0m\u001b[0msort_values\u001b[0m\u001b[1;33m(\u001b[0m\u001b[1;33m)\u001b[0m\u001b[1;33m\u001b[0m\u001b[1;33m\u001b[0m\u001b[0m\n\u001b[0;32m      4\u001b[0m     \u001b[0mprint\u001b[0m\u001b[1;33m(\u001b[0m\u001b[0mcategory_sort\u001b[0m\u001b[1;33m)\u001b[0m\u001b[1;33m\u001b[0m\u001b[1;33m\u001b[0m\u001b[0m\n",
      "\u001b[1;31mNameError\u001b[0m: name 'name' is not defined"
     ]
    }
   ],
   "source": [
    "for category in categories:\n",
    "    category_sort = pd.DataFrame(name)\n",
    "    category_sort.sort_values()\n",
    "    print(category_sort)"
   ]
  },
  {
   "cell_type": "code",
   "execution_count": null,
   "metadata": {},
   "outputs": [],
   "source": []
  },
  {
   "cell_type": "code",
   "execution_count": null,
   "metadata": {},
   "outputs": [],
   "source": []
  }
 ],
 "metadata": {
  "kernelspec": {
   "display_name": "Python 3",
   "language": "python",
   "name": "python3"
  },
  "language_info": {
   "codemirror_mode": {
    "name": "ipython",
    "version": 3
   },
   "file_extension": ".py",
   "mimetype": "text/x-python",
   "name": "python",
   "nbconvert_exporter": "python",
   "pygments_lexer": "ipython3",
   "version": "3.7.4"
  }
 },
 "nbformat": 4,
 "nbformat_minor": 2
}
