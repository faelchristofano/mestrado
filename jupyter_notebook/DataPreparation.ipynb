{
 "cells": [
  {
   "cell_type": "code",
   "execution_count": null,
   "metadata": {},
   "outputs": [],
   "source": [
    "import pandas as pd\n",
    "import numpy as np\n",
    "import matplotlib.pyplot as plt\n",
    "import json"
   ]
  },
  {
   "cell_type": "code",
   "execution_count": null,
   "metadata": {},
   "outputs": [],
   "source": [
    "data = pd.read_json('data.json')"
   ]
  },
  {
   "cell_type": "code",
   "execution_count": null,
   "metadata": {},
   "outputs": [],
   "source": [
    "list_macroCategory = [{\n",
    "    \"food\": [\"bakery\", \"bar\", \"cafe\", \"food\", \"liquor_store\", \"meal_delivery\", \"meal_takeaway\", \"restaurant\"],\n",
    "    \"finance\": [\"accounting\", \"atm\", \"bank\", \"finance\"],\n",
    "    \"administrative\": [\"city_hall\", \"courthouse\", \"embassy\", \"fire_station\", \"local_government_office\", \"police\"],\n",
    "    \"transport\": [\"airport\", \"bus_station\", \"subway_station\", \"taxi_stand\", \"train_station\", \"transit_station\", \"light_rail_station\"],\n",
    "    \"cultural\": [\"art_gallery\", \"library\", \"school\", \"university\", \"movie_theater\", \"museum\"],\n",
    "    \"entertainment\": [\"night_club\", \"amusement_park\", \"casino\", \"bowling _lley\", \"campground\", \"zoo\", \"aquarium\", \"stadium\"],\n",
    "    \"health\": [\"pharmacy\", \"physiotherapist\", \"beauty_salon\", \"dentist\", \"doctor\", \"gym\", \"hair_care\", \"hospital\", \"veterinary_care\", \"health\", \"spa\"],\n",
    "    \"services\": [\"travel_agency\", \"funeral_home\", \"painter\", \"park\", \"post_office\", \"parking\", \"roofing_contractor\", \"locksmith\", \"general_contractor\",\n",
    "        \"lodging\", \"moving_company\", \"car_repair\", \"car_wash\", \"electrician\", \"car_rental\", \"laundry\", \"gas_station\", \"plumber\",\n",
    "        \"real_estate_agency\", \"recreational_vehicle_park\", \"insurance_agency\", \"lawyer\"\n",
    "    ],\n",
    "    \"religious\": [\"mosque\", \"cemetery\", \"church\", \"hindu_temple\", \"synagogue\", \"place_of_worship\"],\n",
    "    \"stores\": [\"shoe_store\", \"shopping_mall\", \"pet_store\", \"bicycle_store\", \"book_store\", \"car_dealer\", \"clothing_store\",\n",
    "        \"jewelry_store\", \"florist\", \"store\", \"furniture_store\", \"convenience_store\", \"department_store\", \"electronics_store\",\n",
    "        \"hardware_store\", \"home_goods_store\", \"storage\", \"grocery_or_supermarket\", \"movie_rental\"\n",
    "    ],\n",
    "    \"miscellaneous\": [\"point_of_interest\", \"establishment\", \"country\", \"floor\", \"intersection\", \"locality\", \"natural_feature\", \"geocode\",\n",
    "        \"colloquial\", \"area\", \"room\", \"post_box\", \"neighborhood\", \"postal_code\", \"postal_town\", \"political\", \"postal_code_prefix\",\n",
    "        \"postal_code_suffix\", \"premise\", \"route\", \"street_address\", \"subpremise\", \"street_number\", \"sublocality_(SL)\"\n",
    "    ]\n",
    "}]"
   ]
  },
  {
   "cell_type": "code",
   "execution_count": null,
   "metadata": {},
   "outputs": [],
   "source": [
    "data.head()"
   ]
  }
 ],
 "metadata": {
  "kernelspec": {
   "display_name": "Python 3",
   "language": "python",
   "name": "python3"
  },
  "language_info": {
   "codemirror_mode": {
    "name": "ipython",
    "version": 3
   },
   "file_extension": ".py",
   "mimetype": "text/x-python",
   "name": "python",
   "nbconvert_exporter": "python",
   "pygments_lexer": "ipython3",
   "version": "3.7.4"
  }
 },
 "nbformat": 4,
 "nbformat_minor": 2
}
